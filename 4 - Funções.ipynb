{
 "cells": [
  {
   "cell_type": "markdown",
   "id": "20546f02",
   "metadata": {},
   "source": [
    "## Funções \n"
   ]
  },
  {
   "cell_type": "markdown",
   "id": "7c7dd3fd",
   "metadata": {},
   "source": [
    "### O que são Funções?\n",
    "\n",
    "Funções sao blocos de código reutilizaveis que realizao uma tarefa especifica. Elas ajudam a:\n",
    "\n",
    "<ul> \n",
    "<li>Tonar o progama mais legivel</li>\n",
    "<li>Evitar repetição</li>\n",
    "<li> Facilitar a manuteção do codigo</li>\n",
    "<li>Organizar o codigo</li>\n",
    "</ul>"
   ]
  }
 ],
 "metadata": {
  "language_info": {
   "name": "python"
  }
 },
 "nbformat": 4,
 "nbformat_minor": 5
}
