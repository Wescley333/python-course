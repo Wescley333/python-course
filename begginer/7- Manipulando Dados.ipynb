{
 "cells": [
  {
   "cell_type": "markdown",
   "id": "b895da63",
   "metadata": {},
   "source": [
    "#### Criando Maquina virtal\n",
    "***Comandos:*** \n",
    "```\n",
    "python3 -m venv laboratorios-python\n",
    "\n",
    "```\n",
    "Comando para se for preciso liberar comando para o activate\n",
    "```\n",
    "# verificando se esta com acesso liberado\n",
    "ls -la laboratorios-python/bin\n",
    "\n",
    "# liberando acesso\n",
    "chmod 777 laboratorios-python/bin/activate\n",
    "```\n",
    "Apos isso e so entrar na maquina virtual\n",
    "```\n",
    "# entrando na maquina vitrual\n",
    "laboratorios-python/bin/activate \n",
    "```"
   ]
  },
  {
   "cell_type": "markdown",
   "id": "a8f6bb94",
   "metadata": {},
   "source": [
    "# Trabalhando com Dados \n",
    "\n",
    "### Objetivo\n",
    "Introduzir bibliotecas essencias para manipulação e análise de dados em Python, explorando casos de uso prático\n",
    "\n",
    "<hr>\n",
    "\n",
    "## Bibliotecas de Dados Essenciais\n",
    "\n",
    "Nesta aula, vamos explorar quatro bibliotecas fundamentais para trabalhar com dados:\n",
    " 1. **Pandas:** Manipulação e análise de dados\n",
    " 2. **OS**: Interação com o sistema operacional\n",
    " 3. **Requsts:** Requisições HTTP e consumo de APIs\n",
    " 4. **Pyarrow:** Processamento eficiente de dados\n",
    "\n",
    "**Nota:**Antes de começar instale as bibliotecas com:\n",
    "\n",
    "```\n",
    "pip install pandas requests pyarrow\n",
    "```\n",
    "\n",
    "# 1. Pandas: \n",
    "Pandas é a biblioteca mais popular para analise de dados em Python."
   ]
  },
  {
   "cell_type": "code",
   "execution_count": null,
   "id": "24e2d881",
   "metadata": {},
   "outputs": [],
   "source": [
    "#!pip install pandas requests pyarrow\n",
    "import pandas as pd\n",
    "\n",
    "# Criando um DataFrame\n",
    "dados = {\n",
    "    'id': [1, 2, 3, 4],\n",
    "    'nome': ['Joao', 'Paulo', 'Ana', 'Thaissa'],\n",
    "    'idade': [34, 20, 54, 22],\n",
    "    'salario': [5000, 7500, 2456, 4800]\n",
    "}\n",
    "\n",
    "df = pd.DataFrame(dados)\n",
    "\n",
    "# Operações basicas\n",
    "print(\"DataFrame completo:\")\n",
    "print(df)\n",
    "\n",
    "print(\"\\nInformações do DataFrame:\")\n",
    "print(df.info())\n",
    "\n",
    "print(\"\\nEstatiticas básicas:\")\n",
    "print(df.describe())\n",
    "\n",
    "# Filtragem e seleção\n",
    "print(\"\\nPessoas com mais de 30 anos:\")\n",
    "print(df[df['idade'] > 30])\n",
    "\n",
    "# Agrupamento e agregação\n",
    "print(\"\\nSalario medio por faixa etária:\")\n",
    "df['faixa-etaria'] = pd.cut(df['idade'], bins=[0, 25, 35, 100], labels=['Joven', 'Adulto', 'Sênior'])\n",
    "print(df.groupby('faixa-etaria')['salario'].mean())\n",
    "\n",
    "# Leitura de arquivos\n",
    "# Exemplo: df_css = pd.read_css('dados.css')\n",
    "# Exemplo: df_exel = pd.read_exel('dados.xlsx)\n",
    "\n",
    "\n"
   ]
  },
  {
   "cell_type": "markdown",
   "id": "deb456c2",
   "metadata": {},
   "source": [
    "## 2. OS\n",
    "Biblioteca para manipulação de arquivos e diretórios."
   ]
  },
  {
   "cell_type": "code",
   "execution_count": null,
   "id": "721ff723",
   "metadata": {},
   "outputs": [
    {
     "name": "stdout",
     "output_type": "stream",
     "text": [
      "Diretorio atual: /home/wescley/Documentos/Projetos/Python/python-course/begginer\n",
      "Diretorio criado\n"
     ]
    }
   ],
   "source": [
    "import os\n",
    "\n",
    "# Operaçoes com diretorios\n",
    "print(\"Diretorio atual:\", os.getcwd())\n",
    "\n",
    "# Criar dirtetorio\n",
    "try: \n",
    "    os.mkdir('dados_projeto')\n",
    "    print(\"Diretorio criado\")\n",
    "except FileExistsError:\n",
    "    print(\"Diretorio ja existe\")\n",
    "\n",
    "# Listar arquivos\n",
    "print(\"\\nArquivos no diretorio atual: \")\n",
    "print(os.listdir('.'))\n"
   ]
  },
  {
   "cell_type": "code",
   "execution_count": 11,
   "id": "4e6dac4d",
   "metadata": {},
   "outputs": [
    {
     "name": "stdout",
     "output_type": "stream",
     "text": [
      "O diretorio 'dados-projeto' existe? False\n"
     ]
    }
   ],
   "source": [
    "# Verificando existencia de arquivo/diretorio\n",
    "print(\"O diretorio 'dados-projeto' existe?\", os.path.exists('dados_projeto'))"
   ]
  },
  {
   "cell_type": "code",
   "execution_count": 12,
   "id": "bef50ee2",
   "metadata": {},
   "outputs": [
    {
     "name": "stdout",
     "output_type": "stream",
     "text": [
      "Caminho completo: dados_projeto/relatorio.txt\n"
     ]
    }
   ],
   "source": [
    "# Juntar caminhos de forma independente de 50\n",
    "caminho_completo = os.path.join('dados_projeto', 'relatorio.txt')\n",
    "print(\"Caminho completo:\", caminho_completo)"
   ]
  },
  {
   "cell_type": "code",
   "execution_count": null,
   "id": "defedf96",
   "metadata": {},
   "outputs": [],
   "source": [
    "# Criar arquivo\n",
    "with open(caminho_completo, 'w') as arquivo:\n",
    "    arquivo.write(\"Relatorio de dados do projeto\")"
   ]
  },
  {
   "cell_type": "markdown",
   "id": "3479b488",
   "metadata": {},
   "source": [
    "## 3 Resquests\n",
    "Biblioteca para fazer requisições HTTP e consumir APIs"
   ]
  },
  {
   "cell_type": "code",
   "execution_count": 13,
   "id": "5c6ef703",
   "metadata": {},
   "outputs": [
    {
     "name": "stdout",
     "output_type": "stream",
     "text": [
      "Status da requisição: 200\n",
      "\n",
      "Dados recebidos:\n",
      "{\n",
      "  \"userId\": 1,\n",
      "  \"id\": 1,\n",
      "  \"title\": \"delectus aut autem\",\n",
      "  \"completed\": false\n",
      "}\n"
     ]
    }
   ],
   "source": [
    "import requests as req\n",
    "import json\n",
    "\n",
    "# Requisiçao simples de API publica\n",
    "try:\n",
    "    # API de exemplo com dados publicos\n",
    "    resposta = req.get('https://jsonplaceholder.typicode.com/todos/1')\n",
    "\n",
    "    # Verificando status de requisição\n",
    "    print(\"Status da requisição:\", resposta.status_code)\n",
    "\n",
    "    # Converter resposta para JSON\n",
    "    dados = resposta.json()\n",
    "    print(\"\\nDados recebidos:\")\n",
    "    print(json.dumps(dados, indent=2))\n",
    "\n",
    "except req.exceptions.RequestException as e:\n",
    "    print(\"Erro de requisição:\", e)"
   ]
  },
  {
   "cell_type": "code",
   "execution_count": 14,
   "id": "1caad993",
   "metadata": {},
   "outputs": [
    {
     "name": "stdout",
     "output_type": "stream",
     "text": [
      "\n",
      "Resposta do POST:\n",
      "{'title': 'Novo Titulo', 'body': 'Conteudo do post', 'userId': 1, 'id': 101}\n"
     ]
    }
   ],
   "source": [
    "# Exemplo de POST\n",
    "try: \n",
    "    novo_post = {\n",
    "        'title': 'Novo Titulo',\n",
    "        'body': 'Conteudo do post',\n",
    "        'userId': 1\n",
    "    }\n",
    "    \n",
    "    resposta_post = req.post('https://jsonplaceholder.typicode.com/posts', json=novo_post)\n",
    "    print(\"\\nResposta do POST:\")\n",
    "    print(resposta_post.json())\n",
    "\n",
    "except req.exceptions.RequestException as e:\n",
    "    print(\"Error no POST:\", e)"
   ]
  },
  {
   "cell_type": "markdown",
   "id": "0c10835b",
   "metadata": {},
   "source": [
    "## 4. PyArrow\n",
    "Biblioteca para leitura e processamento de dados em grande escala"
   ]
  },
  {
   "cell_type": "code",
   "execution_count": 15,
   "id": "a8c2686b",
   "metadata": {},
   "outputs": [],
   "source": [
    "import pyarrow as pa\n",
    "import pyarrow.parquet as pq\n",
    "\n",
    "# Criando um array\n",
    "data = [\n",
    "    pa.array([1, 2, 3, 4]),\n",
    "    pa.array(['a', 'b', 'c', 'd'])\n",
    "]\n",
    "\n",
    "# Criando uma tabela\n",
    "table = pa.table(data, names=['numeros', 'letras'])"
   ]
  },
  {
   "cell_type": "code",
   "execution_count": 16,
   "id": "6df6c404",
   "metadata": {},
   "outputs": [
    {
     "name": "stdout",
     "output_type": "stream",
     "text": [
      "Tabela Pyarrow:\n",
      "pyarrow.Table\n",
      "numeros: int64\n",
      "letras: string\n",
      "----\n",
      "numeros: [[1,2,3,4]]\n",
      "letras: [[\"a\",\"b\",\"c\",\"d\"]]\n"
     ]
    }
   ],
   "source": [
    "print(\"Tabela Pyarrow:\")\n",
    "print(table)"
   ]
  },
  {
   "cell_type": "code",
   "execution_count": 17,
   "id": "dec0a941",
   "metadata": {},
   "outputs": [
    {
     "name": "stdout",
     "output_type": "stream",
     "text": [
      "\n",
      "DataFrame Pandas:\n",
      "   numeros letras\n",
      "0        1      a\n",
      "1        2      b\n",
      "2        3      c\n",
      "3        4      d\n"
     ]
    }
   ],
   "source": [
    "# Conversão para Pandas (opcional)\n",
    "df_pyarrow = table.to_pandas()\n",
    "print(\"\\nDataFrame Pandas:\")\n",
    "print(df_pyarrow)\n"
   ]
  },
  {
   "cell_type": "code",
   "execution_count": 18,
   "id": "8d39df5c",
   "metadata": {},
   "outputs": [
    {
     "name": "stdout",
     "output_type": "stream",
     "text": [
      "\n",
      "Arquivo Parquet criado com sucesso!\n",
      "\n",
      "Tabela lida do Parquet\n",
      "pyarrow.Table\n",
      "numeros: int64\n",
      "letras: string\n",
      "----\n",
      "numeros: [[1,2,3,4]]\n",
      "letras: [[\"a\",\"b\",\"c\",\"d\"]]\n"
     ]
    }
   ],
   "source": [
    "# Exemplo de escrita em Parquet (formato eficiente)\n",
    "try:\n",
    "    # Criar diretorio se não existir \n",
    "    os.makedirs('dados', exist_ok=True)\n",
    "\n",
    "    # Escrever tabela em arquivo Parquet\n",
    "    pq.write_table(table, 'dados/exemplo.parquet')\n",
    "    print(\"\\nArquivo Parquet criado com sucesso!\")\n",
    "\n",
    "    # Ler arquivo Parquel\n",
    "    tabela_lida = pq.read_table('dados/exemplo.parquet')\n",
    "    print(\"\\nTabela lida do Parquet\")\n",
    "    print(tabela_lida)\n",
    "except Exception as e:\n",
    "    print(\"Error no processamento Parquet:\", e)"
   ]
  }
 ],
 "metadata": {
  "kernelspec": {
   "display_name": "laboratorios-python",
   "language": "python",
   "name": "python3"
  },
  "language_info": {
   "codemirror_mode": {
    "name": "ipython",
    "version": 3
   },
   "file_extension": ".py",
   "mimetype": "text/x-python",
   "name": "python",
   "nbconvert_exporter": "python",
   "pygments_lexer": "ipython3",
   "version": "3.12.3"
  }
 },
 "nbformat": 4,
 "nbformat_minor": 5
}
