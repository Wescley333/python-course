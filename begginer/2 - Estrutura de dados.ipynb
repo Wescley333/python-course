{
 "cells": [
  {
   "cell_type": "markdown",
   "id": "73d190ba",
   "metadata": {},
   "source": [
    "ESTRUTURA DE DADOS\n",
    "\n",
    "1- Listas (list): Coleção ordenadas e mutaveis\n",
    "\n",
    "2- Tuplas (tuple): Coleções ordenadas e imutaveis\n",
    "\n",
    "3- Dicionários (dict): Coleções de pares chave-valor\n",
    "\n",
    "4- Conjuntos (set): Coleções não ordenadas de elementos unicos\n"
   ]
  },
  {
   "cell_type": "markdown",
   "id": "6b510332",
   "metadata": {},
   "source": [
    "1 - Listas \n",
    "Listas sao coleções ordenadas que podem contere elementos de diferentes tipos. São mutaveis, ou seja, podem ser modificadas apos a criação"
   ]
  },
  {
   "cell_type": "code",
   "execution_count": null,
   "id": "31139b2b",
   "metadata": {},
   "outputs": [],
   "source": [
    "# Resumo de frutas em Python\n",
    "\n",
    "# Criando uma lista\n",
    "frutas = ['banana', 'morango', 'abacate', 'melancia']\n",
    "\n",
    "# Acessando elementos\n",
    "primeiro = frutas[0]      # banana\n",
    "ultimo = frutas[-1]       # melancia\n",
    "fatiado = frutas[1:3]     # ['morango', 'abacate']\n",
    "\n",
    "\n",
    "# Adicionando elementos\n",
    "frutas.append('laranja')      #['banana', 'morango', 'abacate', 'melancia', 6]\n",
    "frutas.insert(0, 'uva')       # ['uva', 'banana', 'morango', 'abacate', 'melancia']\n",
    "\n",
    "# Removendo elementos\n",
    "frutas.remove('banana')  # Remove a primeira ocorrência de 'banana'\n",
    "removido = frutas.pop()   # Remove o último elemento da lista\n",
    "\n",
    "#\n",
    "print(\"Tamanho da lista :\", len(frutas))\n",
    "\n",
    "# Percorrendo a frutas\n",
    "for item in frutas:\n",
    "    print(item)\n",
    "\n",
    "# Verificando se um elemento está na frutas\n",
    "if 'banana' in frutas:\n",
    "    print(\"Sim, temos banana!\")\n",
    "\n",
    "else :\n",
    "    print(\"Não temos banana!\")"
   ]
  },
  {
   "cell_type": "markdown",
   "id": "2f58dec6",
   "metadata": {},
   "source": [
    "2 - Tuplas (tuple)\n",
    "Tuplas sao semelhantes a listas, mas são imutaveis. Uma vez criadas, não podem se modificadas.\n"
   ]
  },
  {
   "cell_type": "code",
   "execution_count": null,
   "id": "d11ca1e2",
   "metadata": {},
   "outputs": [],
   "source": [
    "# Criandos Tuplas \n",
    "tuple = {} \n",
    "coordenadas = (10, 24)\n",
    "informaçoes = ('Joao', 25, 1.75)\n",
    "\n",
    "# Tentativa de mudar elementos\n",
    "#coodenadas[0] = 15 #Isso causaria um typeError\n",
    "\n",
    "print(\"Tuplas original: \", coordenadas)\n",
    "print(\"Acessando elemento\", coordenadas)\n",
    "print(\"Desempacotamento: \", f\"X: {coordenadas[0]}, Y: {coordenadas[1]}\")\n",
    "\n",
    "\n",
    "\n"
   ]
  },
  {
   "cell_type": "markdown",
   "id": "17735590",
   "metadata": {},
   "source": [
    "3 - Dicionarios (dict)\n",
    "Os dicionarios são coleções chave-valor, permitibdo acesso rápido aos valores atraves de sua chaves."
   ]
  },
  {
   "cell_type": "code",
   "execution_count": null,
   "id": "a03c205e",
   "metadata": {},
   "outputs": [
    {
     "name": "stdout",
     "output_type": "stream",
     "text": [
      "Dicionario Original:  {'nome': 'Wescley', 'idade': 21, 'Curso': ' Eng Computaçao'}\n",
      "Dicionario:  {'nome': 'Wescley', 'idade': 21, 'Curso': ' Eng Computaçao', 'Notas': 9.5}\n",
      "Nome do aluno:  Wescley\n",
      "Curso do aluno:   Eng Computaçao\n",
      "Chaves:  dict_keys(['nome', 'idade', 'Curso', 'Notas'])\n",
      "Valores:  dict_values(['Wescley', 21, ' Eng Computaçao', 9.5])\n",
      "Dicionario atualizado:  {'nome': 'Wescley', 'idade': 21, 'Curso': ' Eng Computaçao'}\n",
      "nome\n",
      "idade\n",
      "Curso\n"
     ]
    }
   ],
   "source": [
    "#Criando Dicionarios\n",
    "\n",
    "dict = {}\n",
    "aluno = {\n",
    "    'nome' : 'Wescley',\n",
    "    'idade': 21, \n",
    "    'Curso': ' Eng Computaçao',\n",
    "}\n",
    "\n",
    "print(\"Dicionario Original: \", aluno)\n",
    "\n",
    "# Operaçoes com dicionarios\n",
    "aluno['Notas'] = 9.5 # adicionando nova chave-valor\n",
    "print(\"Dicionario: \", aluno)\n",
    "print(\"Nome do aluno: \", aluno['nome'])\n",
    "print(\"Curso do aluno: \", aluno['Curso'])\n",
    "\n",
    "# Metodos Úteis \n",
    "print(\"Chaves: \", aluno.keys())\n",
    "print(\"Valores: \", aluno.values())\n",
    "del aluno['Notas'] # Remove uma Chave valor\n",
    "print(\"Dicionario atualizado: \",aluno)\n"
   ]
  },
  {
   "cell_type": "markdown",
   "id": "85d46b4d",
   "metadata": {},
   "source": [
    "4 - Conjuntos(set)\n",
    "Os Conjuntos sao coleções não ordenadas de elementos únicos, únicos\n"
   ]
  },
  {
   "cell_type": "code",
   "execution_count": null,
   "id": "f54e7e18",
   "metadata": {},
   "outputs": [],
   "source": [
    "# Criando Conjuntos\n",
    "conjunto1 = {1, 2, 3, 4}\n",
    "conjunto2 = {3, 4, 5, 6}\n",
    "\n",
    "# Operaçoes de conjuntos\n",
    "print(\"União:\", conjunto1.union(conjunto2))\n",
    "print(\"Interseção: \", conjunto1.intersection(conjunto2))\n",
    "print(\"Diferença:\", conjunto2.difference(conjunto1))\n",
    "\n",
    "# Eliminado elementos duplicados\n",
    "\n",
    "lista_com_duplicadas = [1, 2, 3, 4, 5, 5]\n",
    "print(\"Minha lista agora e um conjuto:\", set(lista_com_duplicadas))\n",
    "lista_sem_duplicadas = list(set(lista_com_duplicadas))\n",
    "print(\"Lista sem duplicadas:\", lista_sem_duplicadas)\n"
   ]
  },
  {
   "cell_type": "code",
   "execution_count": null,
   "id": "611f4417",
   "metadata": {},
   "outputs": [
    {
     "ename": "NameError",
     "evalue": "name 'aluno' is not defined",
     "output_type": "error",
     "traceback": [
      "\u001b[0;31m---------------------------------------------------------------------------\u001b[0m",
      "\u001b[0;31mNameError\u001b[0m                                 Traceback (most recent call last)",
      "Cell \u001b[0;32mIn[2], line 1\u001b[0m\n\u001b[0;32m----> 1\u001b[0m \u001b[38;5;28;01mfor\u001b[39;00m item \u001b[38;5;129;01min\u001b[39;00m \u001b[43maluno\u001b[49m:\n\u001b[1;32m      2\u001b[0m     \u001b[38;5;28mprint\u001b[39m(item)\n",
      "\u001b[0;31mNameError\u001b[0m: name 'aluno' is not defined"
     ]
    }
   ],
   "source": []
  }
 ],
 "metadata": {
  "kernelspec": {
   "display_name": "Python 3",
   "language": "python",
   "name": "python3"
  },
  "language_info": {
   "codemirror_mode": {
    "name": "ipython",
    "version": 3
   },
   "file_extension": ".py",
   "mimetype": "text/x-python",
   "name": "python",
   "nbconvert_exporter": "python",
   "pygments_lexer": "ipython3",
   "version": "3.12.3"
  }
 },
 "nbformat": 4,
 "nbformat_minor": 5
}
