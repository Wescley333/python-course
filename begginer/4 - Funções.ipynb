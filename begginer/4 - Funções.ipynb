{
 "cells": [
  {
   "cell_type": "markdown",
   "id": "20546f02",
   "metadata": {},
   "source": [
    "## Funções \n"
   ]
  },
  {
   "cell_type": "markdown",
   "id": "7c7dd3fd",
   "metadata": {},
   "source": [
    "# O que são Funções?\n",
    "\n",
    "Funções sao blocos de código reutilizaveis que realizao uma tarefa especifica. Elas ajudam a:\n",
    "\n",
    "<ul> \n",
    "<li>Tonar o progama mais legivel</li>\n",
    "<li>Evitar repetição</li>\n",
    "<li> Facilitar a manuteção do codigo</li>\n",
    "<li>Organizar o codigo</li>\n",
    "</ul>\n"
   ]
  },
  {
   "cell_type": "markdown",
   "id": "414c2aa3",
   "metadata": {},
   "source": [
    "## 1 - Sintaxe Básica de funções\n",
    "\n",
    "    Funções sao definidas usando a palavra-chave \"def\", seguida do nome da função e parênteses"
   ]
  },
  {
   "cell_type": "code",
   "execution_count": 1,
   "id": "b7bc39ab",
   "metadata": {},
   "outputs": [
    {
     "name": "stdout",
     "output_type": "stream",
     "text": [
      "Ola, mundo!\n"
     ]
    }
   ],
   "source": [
    "# funçao simples sem paramentros\n",
    "def saudaçao():\n",
    "    print(\"Ola, mundo!\")\n",
    "\n",
    "# chamando a funçao\n",
    "saudaçao()\n"
   ]
  },
  {
   "cell_type": "code",
   "execution_count": null,
   "id": "6ce8438b",
   "metadata": {},
   "outputs": [
    {
     "name": "stdout",
     "output_type": "stream",
     "text": [
      "Ola WL\n"
     ]
    }
   ],
   "source": [
    "# funçao com paramentros\n",
    "def saudaçao_personalizada(nome):\n",
    "    print(f\"Ola {nome}\")\n",
    "\n",
    "saudaçao_personalizada(\"WL\")"
   ]
  },
  {
   "cell_type": "code",
   "execution_count": 4,
   "id": "417c4740",
   "metadata": {},
   "outputs": [
    {
     "name": "stdout",
     "output_type": "stream",
     "text": [
      " O resultado e 13\n"
     ]
    }
   ],
   "source": [
    "# funções com varios paramentros\n",
    "def soma(x, y):\n",
    "    return x + y\n",
    "\n",
    "resultado = soma(5, 8)\n",
    "\n",
    "print(f\" O resultado e {resultado}\")"
   ]
  },
  {
   "cell_type": "markdown",
   "id": "d0f4dd88",
   "metadata": {},
   "source": [
    "## 2 - Parametros e Argumentos\n",
    "    diferentes formas de passar argumentos para a função"
   ]
  },
  {
   "cell_type": "code",
   "execution_count": null,
   "id": "84a19f5b",
   "metadata": {},
   "outputs": [
    {
     "name": "stdout",
     "output_type": "stream",
     "text": [
      "O resultado e 4\n"
     ]
    }
   ],
   "source": [
    "# Parametros padrao\n",
    "def calculadora(x, y, operacao = \"soma\"):\n",
    "    if(operacao == \"soma\"):\n",
    "        return x + y\n",
    "    elif(operacao == \"subtracao\"):\n",
    "        return x - y\n",
    "    elif(operacao == \"multipicaçao\"):\n",
    "        return x * y\n",
    "    else:\n",
    "        print(\"Opçao incorreta!\")\n",
    "\n",
    "# solicitando os numeros\n",
    "x = int(input(\"Digite o primeiro numero: \"))\n",
    "y = int(input(\"Digite o segundo numero: \"))\n",
    "operacao = input(\"Digite o que voce quer fazer: \")\n",
    "\n",
    "resultado = calculadora(x, y, operacao)\n",
    "\n",
    "print(f\"O resultado e {resultado}\")"
   ]
  },
  {
   "cell_type": "code",
   "execution_count": 13,
   "id": "fbab886f",
   "metadata": {},
   "outputs": [
    {
     "name": "stdout",
     "output_type": "stream",
     "text": [
      "Nome: Joao\n",
      "Idade: 20\n",
      "Curso: Não informado\n",
      "\n",
      "Nome: Thaissa\n",
      "Idade: 22\n",
      "Curso: Pedagogia\n",
      "\n"
     ]
    }
   ],
   "source": [
    "# Argumento por palavra-chave\n",
    "def informacoes(nome, idade, curso=\"Não informado\"):\n",
    "    print(f\"Nome: {nome}\")\n",
    "    print(f\"Idade: {idade}\")\n",
    "    print(f\"Curso: {curso}\\n\")\n",
    "\n",
    "informacoes(\"Joao\", 20,)\n",
    "informacoes(\"Thaissa\", 22, \"Pedagogia\")"
   ]
  },
  {
   "cell_type": "code",
   "execution_count": 14,
   "id": "b41b6353",
   "metadata": {},
   "outputs": [
    {
     "name": "stdout",
     "output_type": "stream",
     "text": [
      "Soma de multiplos numero:  24\n"
     ]
    }
   ],
   "source": [
    "# Numero variavel de argumentos\n",
    "def soma_multiplos(*args):\n",
    "    return sum(args)\n",
    "\n",
    "print(\"Soma de multiplos numero: \", soma_multiplos(2, 3, 4, 7, 8))"
   ]
  },
  {
   "cell_type": "markdown",
   "id": "d909fe86",
   "metadata": {},
   "source": [
    "## 3 - Escopo de Variaveis\n",
    "    Entendendo o escopo local e global de varisveis"
   ]
  },
  {
   "cell_type": "code",
   "execution_count": 1,
   "id": "81ed4fe2",
   "metadata": {},
   "outputs": [
    {
     "name": "stdout",
     "output_type": "stream",
     "text": [
      "Valor inicial 0\n",
      "Apos primeira adiçao:  10\n",
      "Apos segunda adição:  30\n"
     ]
    }
   ],
   "source": [
    "# variavel global\n",
    "total = 0\n",
    "\n",
    "def adiciona_valor(valor):\n",
    "    # usando variavel global\n",
    "    global total\n",
    "    total += valor\n",
    "    return total\n",
    "\n",
    "print(\"Valor inicial\", total)\n",
    "print(\"Apos primeira adiçao: \", adiciona_valor(10))\n",
    "print(\"Apos segunda adição: \", adiciona_valor(20))"
   ]
  },
  {
   "cell_type": "code",
   "execution_count": 1,
   "id": "7b57e81a",
   "metadata": {},
   "outputs": [
    {
     "name": "stdout",
     "output_type": "stream",
     "text": [
      "A media e:  4.333333333333333\n"
     ]
    }
   ],
   "source": [
    "# funçoes com variaveis locais\n",
    "def calcular_media(numeros):\n",
    "    # variaveis locais\n",
    "    soma = sum(numeros)\n",
    "    quantidade = len(numeros)\n",
    "    media = soma / quantidade\n",
    "    return media\n",
    "\n",
    "notas = [7, 8, 4, 3, 1, 3]\n",
    "print(\"A media e: \", calcular_media(notas))"
   ]
  },
  {
   "cell_type": "markdown",
   "id": "2d34c0c9",
   "metadata": {},
   "source": [
    "## 4 - Funções lambda (Funções anonimas)\n",
    "\n",
    "    funçoes simples em uma unica linha, uteis para operaçoes rapidas"
   ]
  },
  {
   "cell_type": "code",
   "execution_count": 2,
   "id": "27a6caa4",
   "metadata": {},
   "outputs": [
    {
     "name": "stdout",
     "output_type": "stream",
     "text": [
      "Quadrado de 5:  25\n"
     ]
    }
   ],
   "source": [
    "# Funçao lambda simples\n",
    "quadrado = lambda x: x ** 2\n",
    "print(\"Quadrado de 5: \", quadrado(5))"
   ]
  },
  {
   "cell_type": "code",
   "execution_count": 4,
   "id": "959966f3",
   "metadata": {},
   "outputs": [
    {
     "name": "stdout",
     "output_type": "stream",
     "text": [
      "cubos:  [1, 8, 27, 64, 125]\n"
     ]
    }
   ],
   "source": [
    "# Usando lambda com funções built-in\n",
    "numeros = [1, 2, 3, 4, 5]\n",
    "cubos = list(map(lambda x: x ** 3, numeros))\n",
    "print(\"cubos: \", cubos)"
   ]
  },
  {
   "cell_type": "code",
   "execution_count": 6,
   "id": "19b8f031",
   "metadata": {},
   "outputs": [
    {
     "name": "stdout",
     "output_type": "stream",
     "text": [
      "Numeros pares:  [0, 2, 4, 6, 8, 10, 12, 14, 16, 18, 20, 22, 24, 26, 28, 30, 32, 34, 36, 38, 40, 42, 44, 46, 48, 50, 52, 54, 56, 58, 60, 62, 64, 66, 68, 70, 72, 74, 76, 78, 80, 82, 84, 86, 88, 90, 92, 94, 96, 98]\n"
     ]
    }
   ],
   "source": [
    "# Filtrando com lambda\n",
    "list_range = [x for x in range(100)]\n",
    "pares = list(filter(lambda x: x % 2 == 0, list_range))\n",
    "print(\"Numeros pares: \", pares)"
   ]
  },
  {
   "cell_type": "markdown",
   "id": "be11e5c2",
   "metadata": {},
   "source": [
    "## 5 - Documentos de Funções\n",
    "\n",
    "    Usando docstrings para documento o proposito é o uso das funções."
   ]
  },
  {
   "cell_type": "code",
   "execution_count": 2,
   "id": "e4926fa5",
   "metadata": {},
   "outputs": [
    {
     "name": "stdout",
     "output_type": "stream",
     "text": [
      "Area do circulo:  78.53981633974483\n",
      "Calcula a area de um circulo dado o raio.\n",
      "\n",
      "    Parametros:\n",
      "    raio {float}: raio do circulo\n",
      "\n",
      "    Retorna: \n",
      "    float: area do circulo\n",
      "    \n",
      "Prints the values to a stream, or to sys.stdout by default.\n",
      "\n",
      "  sep\n",
      "    string inserted between values, default a space.\n",
      "  end\n",
      "    string appended after the last value, default a newline.\n",
      "  file\n",
      "    a file-like object (stream); defaults to the current sys.stdout.\n",
      "  flush\n",
      "    whether to forcibly flush the stream.\n"
     ]
    }
   ],
   "source": [
    "# PEP 257\n",
    "\n",
    "def calcular_area_circulo(raio):\n",
    "    \"\"\"Calcula a area de um circulo dado o raio.\n",
    "\n",
    "    Parametros:\n",
    "    raio {float}: raio do circulo\n",
    "\n",
    "    Retorna: \n",
    "    float: area do circulo\n",
    "    \"\"\"\n",
    "    import math\n",
    "    return math.pi * raio ** 2 \n",
    "\n",
    "print(\"Area do circulo: \", calcular_area_circulo(5))\n",
    "\n",
    "# Acessando a documentação\n",
    "print(calcular_area_circulo.__doc__)\n",
    "print(print.__doc__)"
   ]
  },
  {
   "cell_type": "code",
   "execution_count": null,
   "id": "5be7ecf1",
   "metadata": {},
   "outputs": [
    {
     "name": "stdout",
     "output_type": "stream",
     "text": [
      "maior e menor:  (7, 1)\n"
     ]
    }
   ],
   "source": [
    "# Exercicio para achar o maior e menor numero sem usar funções bulit-in\n",
    "list_range = [1, 2, 3, 4,5 ,5 ,6 ,7]\n",
    "\n",
    "def maior_menor(lista):\n",
    "    maior = lista[0]\n",
    "    menor = lista[0]\n",
    "    for i in lista:\n",
    "        if i > maior:\n",
    "            maior = i\n",
    "        if i < menor:\n",
    "            menor = i \n",
    "    return maior, menor\n",
    "\n",
    "print(\"maior e menor: \", maior_menor(list_range))"
   ]
  }
 ],
 "metadata": {
  "kernelspec": {
   "display_name": "Python 3",
   "language": "python",
   "name": "python3"
  },
  "language_info": {
   "codemirror_mode": {
    "name": "ipython",
    "version": 3
   },
   "file_extension": ".py",
   "mimetype": "text/x-python",
   "name": "python",
   "nbconvert_exporter": "python",
   "pygments_lexer": "ipython3",
   "version": "3.12.3"
  }
 },
 "nbformat": 4,
 "nbformat_minor": 5
}
