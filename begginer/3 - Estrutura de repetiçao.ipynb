{
 "cells": [
  {
   "cell_type": "markdown",
   "id": "4dcb018b",
   "metadata": {},
   "source": [
    "ESTRUTURA DE CONTROLE DE CODIGO\n",
    "\n",
    "1 - Condicionais (if - else)\n",
    "\n",
    "2 - laço while\n",
    "\n",
    "3 - laço for"
   ]
  },
  {
   "cell_type": "markdown",
   "id": "8dd9efe5",
   "metadata": {},
   "source": [
    "--------------------------------------------------------------\n",
    "\n",
    "1- IF - ELSE \n",
    "\n",
    "\n"
   ]
  },
  {
   "cell_type": "code",
   "execution_count": null,
   "id": "f7429cf1",
   "metadata": {},
   "outputs": [],
   "source": [
    "nota = 7\n",
    "\n",
    "if nota >= 9:\n",
    "    resultado = \"A\"\n",
    "elif nota >= 7:\n",
    "    resultado = \"B\"\n",
    "elif nota >= 6:\n",
    "    resultado = \"C\"\n",
    "else:\n",
    "    resultado = \"D\"\n",
    "\n",
    "print(\"Resultado: \", resultado)\n"
   ]
  },
  {
   "cell_type": "markdown",
   "id": "f24a218a",
   "metadata": {},
   "source": [
    "-----------------------------\n",
    "LAÇO WHILE"
   ]
  },
  {
   "cell_type": "code",
   "execution_count": null,
   "id": "78d6c2c9",
   "metadata": {},
   "outputs": [],
   "source": [
    "# contador basico\n",
    "\n",
    "contador = 0\n",
    "while contador <= 5:\n",
    "    print(f\"Contador: {contador}\") \n",
    "    contador += 1"
   ]
  },
  {
   "cell_type": "code",
   "execution_count": null,
   "id": "d81e1949",
   "metadata": {},
   "outputs": [],
   "source": [
    "# while com break e continue\n",
    "\n",
    "numero = 0\n",
    "while True:\n",
    "    numero += 1\n",
    "\n",
    "    # pula numero pares \n",
    "    if numero % 2 == 0:\n",
    "        continue\n",
    "\n",
    "    print(f\"Numero impar: {numero}\")\n",
    "\n",
    "    #Para o loop quando chega a 10\n",
    "\n",
    "    if numero >= 10:\n",
    "        break # sai do meu laço\n"
   ]
  },
  {
   "cell_type": "code",
   "execution_count": null,
   "id": "24cb76f2",
   "metadata": {},
   "outputs": [],
   "source": [
    "# Simulaçao de jogo com while\n",
    "import random\n",
    "\n",
    "numero_secreto = random.randint(1, 10)\n",
    "\n",
    "tentativas = 0\n",
    "\n",
    "print(\"\\nJogo de adivinhaçao\")\n",
    "while True:\n",
    "    tentativa = int(input(\"Escolha um numero entre 1 e 10\"))\n",
    "    tentativas += 1\n",
    "\n",
    "    if tentativa == numero_secreto:\n",
    "        print(f\"Parabens! Voce acertou o numero em {tentativas} tentativas\")\n",
    "        break\n",
    "\n",
    "    elif tentativa < numero_secreto:\n",
    "        print(\"Muito baixa! Tente novamente\")\n",
    "\n",
    "    else:\n",
    "        print(\"Muito alto! Tente novamente\")"
   ]
  },
  {
   "cell_type": "markdown",
   "id": "991bc21d",
   "metadata": {},
   "source": [
    "--------------------\n",
    "LAÇO FOR\n"
   ]
  },
  {
   "cell_type": "code",
   "execution_count": null,
   "id": "f1e516aa",
   "metadata": {},
   "outputs": [],
   "source": [
    "#Interando sobre um lista\n",
    "frutas = ['maça', 'banana', 'uva', 'laranja']\n",
    "\n",
    "for fruta in frutas:\n",
    "    print(f\"Fruta: {fruta}\")"
   ]
  },
  {
   "cell_type": "code",
   "execution_count": 2,
   "id": "55fd7604",
   "metadata": {},
   "outputs": [
    {
     "name": "stdout",
     "output_type": "stream",
     "text": [
      "\n",
      " contagem de 0 a 4:\n",
      "Numero Pares: 2\n",
      "Numero Pares: 4\n",
      "Numero Pares: 6\n",
      "Numero Pares: 8\n",
      "Numero Pares: 10\n",
      "Numero Pares: 12\n",
      "Numero Pares: 14\n",
      "Numero Pares: 16\n",
      "Numero Pares: 18\n"
     ]
    }
   ],
   "source": [
    "# Usando range para gerar sequecias\n",
    "print(\"\\n contagem de 0 a 4:\")\n",
    "for i in range(2, 20, 2):\n",
    "    print(f\"Numero Pares: {i}\")"
   ]
  },
  {
   "cell_type": "code",
   "execution_count": 10,
   "id": "9a3d6ce0",
   "metadata": {},
   "outputs": [
    {
     "name": "stdout",
     "output_type": "stream",
     "text": [
      "\n",
      "Indices e valores:\n",
      "Indice 1: maça\n",
      "Indice 2: banana\n",
      "Indice 3: uva\n",
      "Indice 4: laranja\n",
      "Indice 5: figo\n",
      "Indice 6: abacate\n"
     ]
    }
   ],
   "source": [
    "# Iterando com enumerate \n",
    "frutas = ['maça', 'banana', 'uva', 'laranja', 'figo', 'abacate']\n",
    "print(\"\\nIndices e valores:\")\n",
    "for indice, fruta in enumerate(frutas):\n",
    "    print(f\"Indice {indice + 1}: {fruta}\")"
   ]
  },
  {
   "cell_type": "code",
   "execution_count": 23,
   "id": "561fb9f3",
   "metadata": {},
   "outputs": [
    {
     "name": "stdout",
     "output_type": "stream",
     "text": [
      "Numero atual:  7\n",
      "Numero 7 encontrado!\n"
     ]
    }
   ],
   "source": [
    "# For com else \n",
    "\n",
    "numeros = [7 ,2, 4, 6, 8, 10]\n",
    "busca = 7\n",
    "\n",
    "for numero in numeros:\n",
    "    print(\"Numero atual: \", numero)\n",
    "    if numero == busca:\n",
    "        print(f\"Numero {busca} encontrado!\")\n",
    "        break\n",
    "    else:\n",
    "        print(f\"Numero {busca} não encontrado\")\n",
    "\n"
   ]
  },
  {
   "cell_type": "code",
   "execution_count": 28,
   "id": "da4f1ef9",
   "metadata": {},
   "outputs": [
    {
     "name": "stdout",
     "output_type": "stream",
     "text": [
      "\n",
      " Quadrados:  [0, 1, 4, 9, 16, 25]\n",
      "Numeros impares:  [1, 3, 5, 7, 9, 11]\n"
     ]
    }
   ],
   "source": [
    "# Compreesão de lista/list comprehension\n",
    "quadrados = [x**2 for x in range(6)]\n",
    "print(\"\\n Quadrados: \", quadrados)\n",
    "\n",
    "numeros_impares = [n for n in range(13) if n % 2 != 0]\n",
    "print(\"Numeros impares: \", numeros_impares)"
   ]
  }
 ],
 "metadata": {
  "kernelspec": {
   "display_name": "Python 3",
   "language": "python",
   "name": "python3"
  },
  "language_info": {
   "codemirror_mode": {
    "name": "ipython",
    "version": 3
   },
   "file_extension": ".py",
   "mimetype": "text/x-python",
   "name": "python",
   "nbconvert_exporter": "python",
   "pygments_lexer": "ipython3",
   "version": "3.12.3"
  }
 },
 "nbformat": 4,
 "nbformat_minor": 5
}
