{
 "cells": [
  {
   "cell_type": "markdown",
   "id": "b3dbb7ae",
   "metadata": {},
   "source": [
    "# Bibliotecas em Python\n",
    "\n",
    "### Oque são Bibliotecas?\n",
    "\n",
    "Bibliotecas são coleções de cogico pré-escritos que podem ser reutilizados em diferentes programas. Elas permitem:\n",
    " - Adicionar fucionalidades\n",
    " - Simplificar tarefas complexas\n",
    " - Reutilizar código de forma eficiente\n",
    "\n",
    "Existem dois tipos principais de bibliotecas:\n",
    " 1. **Bibliotecas Padrão:** Vêm inclusas com o Python\n",
    " 2. **Bibliotecas de Terceiros**: Precisam ser instaladas separadamente\n",
    "\n",
    "## Bibliotecas Padrão\n",
    "\n",
    "O Python já vem com diversas bibliotecas úteis instaladas por pradrão"
   ]
  },
  {
   "cell_type": "code",
   "execution_count": 1,
   "id": "19294669",
   "metadata": {},
   "outputs": [],
   "source": [
    "# Biblioteca math: operações matematicas avançadas\n",
    "import math"
   ]
  },
  {
   "cell_type": "code",
   "execution_count": 4,
   "id": "31044091",
   "metadata": {},
   "outputs": [
    {
     "name": "stdout",
     "output_type": "stream",
     "text": [
      "Raiz quadrada de 16: 4.0\n",
      "Valor de PI: 3.141592653589793\n",
      "Cosseno de 0: 1.0\n",
      "Logaritimo de 10: 2.302585092994046\n"
     ]
    }
   ],
   "source": [
    "# Funções Matematicas\n",
    "print(\"Raiz quadrada de 16:\",math.sqrt(16))\n",
    "print(\"Valor de PI:\", math.pi)\n",
    "print(\"Cosseno de 0:\", math.cos(0))\n",
    "print(\"Logaritimo de 10:\", math.log(10))"
   ]
  },
  {
   "cell_type": "code",
   "execution_count": 5,
   "id": "10945887",
   "metadata": {},
   "outputs": [
    {
     "name": "stdout",
     "output_type": "stream",
     "text": [
      "Arredodamento para cima de 4.3: 5\n",
      "Arredondamento para baixo de 4.7: 4\n"
     ]
    }
   ],
   "source": [
    "# Arredondamento e funções trigonométricas\n",
    "print(\"Arredodamento para cima de 4.3:\", math.ceil(4.3))\n",
    "print(\"Arredondamento para baixo de 4.7:\", math.floor(4.7))"
   ]
  },
  {
   "cell_type": "code",
   "execution_count": 6,
   "id": "0571d6df",
   "metadata": {},
   "outputs": [],
   "source": [
    "# Biblioteca random: geração de numeros aleatorios\n",
    "import random"
   ]
  },
  {
   "cell_type": "code",
   "execution_count": null,
   "id": "7ebd2e32",
   "metadata": {},
   "outputs": [
    {
     "name": "stdout",
     "output_type": "stream",
     "text": [
      "Numeros aleatorios entre 0 e 1: 0.24116533793453176\n",
      "Inteiro aleatório entre 1 e 20 11\n"
     ]
    }
   ],
   "source": [
    "# Numeros aleatorios \n",
    "print(\"Numeros aleatorios entre 0 e 1:\", random.random())\n",
    "print(\"Inteiro aleatório entre 1 e 20:\", random.randint(1, 20))\n"
   ]
  },
  {
   "cell_type": "code",
   "execution_count": null,
   "id": "09d5b5b8",
   "metadata": {},
   "outputs": [
    {
     "name": "stdout",
     "output_type": "stream",
     "text": [
      "Fruta aleatoria:  banana\n"
     ]
    }
   ],
   "source": [
    "# Seleção aleatória\n",
    "frutas = ['maça', 'banana', 'laranja', 'caju']\n",
    "print(\"Fruta aleatoria: \", random.choice(frutas))"
   ]
  },
  {
   "cell_type": "code",
   "execution_count": 24,
   "id": "a84af06e",
   "metadata": {},
   "outputs": [
    {
     "name": "stdout",
     "output_type": "stream",
     "text": [
      "Lista embaranhada ['laranja', 'caja', 'maça', 'banana']\n"
     ]
    }
   ],
   "source": [
    "# Embaralahr lista\n",
    "random.shuffle(frutas)\n",
    "print(\"Lista embaranhada\", frutas)"
   ]
  },
  {
   "cell_type": "code",
   "execution_count": 25,
   "id": "c368a806",
   "metadata": {},
   "outputs": [],
   "source": [
    "# Biblioteca os: intereção com sistema operacional\n",
    "import os"
   ]
  },
  {
   "cell_type": "code",
   "execution_count": 26,
   "id": "453b3470",
   "metadata": {},
   "outputs": [
    {
     "name": "stdout",
     "output_type": "stream",
     "text": [
      "Diretorio atual: /home/wescley/Documentos/Projetos/Python/python-course/begginer\n",
      "Listando arquivos do diretorio: ['6 - Bibliotecas.ipynb', '4 - Funções.ipynb', '2 - Estrutura de dados.ipynb', '3 - Estrutura de repetiçao.ipynb', 'reafme.md', '5 - Classes e Objetos.ipynb', '1 - Hello world.ipynb']\n"
     ]
    }
   ],
   "source": [
    "# Informações do sisrema\n",
    "print(\"Diretorio atual:\", os.getcwd()) #cwd = current working dir | diretório atual de trabalho\n",
    "print(\"Listando arquivos do diretorio:\", os.listdir())"
   ]
  },
  {
   "cell_type": "code",
   "execution_count": null,
   "id": "ca72eb71",
   "metadata": {},
   "outputs": [],
   "source": [
    "# Criando e removendo diretorios\n",
    "try:\n",
    "    os.mkdir('exemplo_pasta')\n",
    "    print(\"Pasta criada com sucesso\")\n",
    "except FileExistsError:\n",
    "    print(\"Pasta ja existe\")"
   ]
  },
  {
   "cell_type": "code",
   "execution_count": null,
   "id": "5b3faec8",
   "metadata": {},
   "outputs": [],
   "source": [
    "# Infomaçoes de caminho\n",
    "caminho = os.path('exemplo_pasta', 'arquico.txt')\n",
    "print(\"Caminho completo:\", caminho)"
   ]
  },
  {
   "cell_type": "code",
   "execution_count": 27,
   "id": "9c3c5337",
   "metadata": {},
   "outputs": [
    {
     "name": "stdout",
     "output_type": "stream",
     "text": [
      "5.0\n"
     ]
    }
   ],
   "source": [
    "# Importação com apelido\n",
    "import math as m\n",
    "print(m.sqrt(25))"
   ]
  },
  {
   "cell_type": "code",
   "execution_count": null,
   "id": "37042e01",
   "metadata": {},
   "outputs": [],
   "source": [
    "# Importação de função especifica\n",
    "from math import sqrt, pi\n",
    "print(sqrt(36))\n",
    "print(pi)"
   ]
  },
  {
   "cell_type": "code",
   "execution_count": null,
   "id": "3263fde1",
   "metadata": {},
   "outputs": [],
   "source": [
    "# Importação de todas as funçoes (NÃO RECOMENDADO)\n",
    "from math import *\n",
    "print(sin(0)) # Função seno importada diretamente "
   ]
  },
  {
   "cell_type": "markdown",
   "id": "f4907acd",
   "metadata": {},
   "source": [
    "## Instalação de Bibliotecas de Terceiros\n",
    "Para instalar bibliotecas de terceiros usamos o pip(gerenciador de pacotes do Python).\n",
    "\n",
    "No terminal ou prompt de comando, você pode usar:\n",
    "```python \n",
    "# Instalar uma biblioteca\n",
    "pip install numpy \n",
    "```\n",
    "\n",
    "```python \n",
    "# Instalar uma versão especifica\n",
    "pip install pandas==1.0.3\n",
    "```\n",
    "```python \n",
    "#Listar bibliotecas instaladas\n",
    "pip list\n",
    "```"
   ]
  },
  {
   "cell_type": "code",
   "execution_count": 33,
   "id": "dfd08e7c",
   "metadata": {},
   "outputs": [
    {
     "name": "stdout",
     "output_type": "stream",
     "text": [
      "Package                     Version\n",
      "--------------------------- --------------\n",
      "appdirs                     1.4.4\n",
      "asttokens                   2.4.1\n",
      "attrs                       23.2.0\n",
      "Babel                       2.10.3\n",
      "beautifulsoup4              4.12.3\n",
      "blinker                     1.7.0\n",
      "Bottleneck                  1.3.5\n",
      "Brlapi                      0.8.5\n",
      "Brotli                      1.1.0\n",
      "bytecode                    0.15.1\n",
      "certifi                     2023.11.17\n",
      "chardet                     5.2.0\n",
      "click                       8.1.6\n",
      "colorama                    0.4.6\n",
      "comm                        0.2.1\n",
      "command-not-found           0.3\n",
      "configobj                   5.0.8\n",
      "contourpy                   1.0.7\n",
      "coverage                    7.4.4\n",
      "cryptography                41.0.7\n",
      "cupshelpers                 1.0\n",
      "cycler                      0.11.0\n",
      "dbus-python                 1.3.2\n",
      "debugpy                     1.8.0\n",
      "decorator                   5.1.1\n",
      "defer                       1.0.6\n",
      "defusedxml                  0.7.1\n",
      "deprecation                 2.0.7\n",
      "dill                        0.3.8\n",
      "distro                      1.9.0\n",
      "entrypoints                 0.4\n",
      "et-xmlfile                  1.0.1\n",
      "executing                   2.0.1\n",
      "eyed3                       0.9.7\n",
      "filelock                    3.13.1\n",
      "filetype                    1.2.0\n",
      "fonttools                   4.46.0\n",
      "fs                          2.4.16\n",
      "html2text                   2024.2.26\n",
      "html5lib                    1.1\n",
      "httplib2                    0.20.4\n",
      "idna                        3.6\n",
      "ifaddr                      0.2.0\n",
      "IMDbPY                      2021.4.18\n",
      "ipykernel                   6.29.3\n",
      "ipython                     8.20.0\n",
      "jedi                        0.19.1\n",
      "Jinja2                      3.1.2\n",
      "jupyter_client              7.4.9\n",
      "jupyter_core                5.3.2\n",
      "kiwisolver                  0.0.0\n",
      "launchpadlib                1.11.0\n",
      "lazr.restfulclient          0.14.6\n",
      "lazr.uri                    1.0.6\n",
      "libevdev                    0.5\n",
      "louis                       3.29.0\n",
      "lxml                        5.2.1\n",
      "lz4                         4.0.2+dfsg\n",
      "Mako                        1.3.2.dev0\n",
      "Markdown                    3.5.2\n",
      "markdown-it-py              3.0.0\n",
      "MarkupSafe                  2.1.5\n",
      "matplotlib                  3.6.3\n",
      "matplotlib-inline           0.1.6\n",
      "mdurl                       0.1.2\n",
      "mpmath                      0.0.0\n",
      "multiprocess                0.70.16\n",
      "mutagen                     1.46.0\n",
      "nemo-emblems                6.4.0\n",
      "nest-asyncio                1.5.4\n",
      "netaddr                     0.8.0\n",
      "netifaces                   0.11.0\n",
      "numexpr                     2.9.0\n",
      "numpy                       1.26.4\n",
      "oauthlib                    3.2.2\n",
      "odfpy                       1.4.2\n",
      "onboard                     1.4.1\n",
      "openpyxl                    3.1.2\n",
      "packaging                   24.0\n",
      "PAM                         0.4.2\n",
      "pandas                      2.1.4+dfsg\n",
      "parso                       0.8.3\n",
      "pexpect                     4.9.0\n",
      "pillow                      10.2.0\n",
      "pip                         24.0\n",
      "platformdirs                4.2.0\n",
      "prompt-toolkit              3.0.43\n",
      "psutil                      5.9.8\n",
      "ptyprocess                  0.7.0\n",
      "pure-eval                   0.0.0\n",
      "py                          1.11.0\n",
      "py-cpuinfo                  9.0.0\n",
      "pyasyncore                  1.0.2\n",
      "pycairo                     1.25.1\n",
      "pycryptodomex               3.20.0\n",
      "pycups                      2.0.1\n",
      "pycurl                      7.45.3\n",
      "pydevd                      2.10.0\n",
      "pyelftools                  0.30\n",
      "Pygments                    2.17.2\n",
      "PyGObject                   3.48.2\n",
      "PyICU                       2.12\n",
      "pyinotify                   0.9.6\n",
      "PyJWT                       2.7.0\n",
      "PyNaCl                      1.5.0\n",
      "pyparsing                   3.1.1\n",
      "pyparted                    3.12.0\n",
      "pypng                       0.20231004.0\n",
      "python-apt                  2.7.7+ubuntu4\n",
      "python-dateutil             2.8.2\n",
      "python-debian               0.1.49+ubuntu2\n",
      "python-gnupg                0.5.2\n",
      "python-magic                0.4.27\n",
      "python-xlib                 0.33\n",
      "pytz                        2024.1\n",
      "pyudev                      0.24.0\n",
      "pyxdg                       0.28\n",
      "PyYAML                      6.0.1\n",
      "pyzmq                       24.0.1\n",
      "qrcode                      7.4.2\n",
      "repolib                     2.2.1\n",
      "requests                    2.31.0\n",
      "requests-file               1.5.1\n",
      "rich                        13.7.1\n",
      "SciPy                       1.11.4\n",
      "setproctitle                1.3.3\n",
      "setuptools                  68.1.2\n",
      "six                         1.16.0\n",
      "soupsieve                   2.5\n",
      "stack-data                  0.6.3\n",
      "sympy                       1.12\n",
      "systemd-python              235\n",
      "tables                      3.9.2\n",
      "tinycss2                    1.2.1\n",
      "tldextract                  3.1.2\n",
      "tornado                     6.4\n",
      "traitlets                   5.5.0\n",
      "types-aiofiles              23.2\n",
      "types-aws-xray-sdk          2.12\n",
      "types-beautifulsoup4        4.12\n",
      "types-bleach                6.1\n",
      "types-boltons               23.0\n",
      "types-boto                  2.49\n",
      "types-braintree             4.24\n",
      "types-cachetools            5.3\n",
      "types-caldav                1.3\n",
      "types-cffi                  1.16\n",
      "types-chevron               0.14\n",
      "types-click-default-group   1.2\n",
      "types-click-spinner         0.1\n",
      "types-colorama              0.4\n",
      "types-commonmark            0.9\n",
      "types-console-menu          0.8\n",
      "types-croniter              2.0\n",
      "types-dateparser            1.1\n",
      "types-decorator             5.1\n",
      "types-Deprecated            1.2\n",
      "types-dockerfile-parse      2.0\n",
      "types-docopt                0.6\n",
      "types-docutils              0.20\n",
      "types-editdistance          0.6\n",
      "types-entrypoints           0.4\n",
      "types-ExifRead              3.0\n",
      "types-first                 2.0\n",
      "types-flake8-2020           1.8\n",
      "types-flake8-bugbear        23.9.16\n",
      "types-flake8-builtins       2.2\n",
      "types-flake8-docstrings     1.7\n",
      "types-flake8-plugin-utils   1.3\n",
      "types-flake8-rst-docstrings 0.3\n",
      "types-flake8-simplify       0.21\n",
      "types-flake8-typing-imports 1.15\n",
      "types-Flask-Cors            4.0\n",
      "types-Flask-Migrate         4.0\n",
      "types-Flask-SocketIO        5.3\n",
      "types-fpdf2                 2.7.4\n",
      "types-gdb                   12.1\n",
      "types-google-cloud-ndb      2.2\n",
      "types-greenlet              3.0\n",
      "types-hdbcli                2.18\n",
      "types-html5lib              1.1\n",
      "types-httplib2              0.22\n",
      "types-humanfriendly         10.0\n",
      "types-ibm-db                3.2\n",
      "types-influxdb-client       1.38\n",
      "types-inifile               0.4\n",
      "types-JACK-Client           0.5\n",
      "types-jmespath              1.0\n",
      "types-jsonschema            4.19\n",
      "types-keyboard              0.13\n",
      "types-ldap3                 2.9\n",
      "types-libsass               0.22\n",
      "types-Markdown              3.5\n",
      "types-mock                  5.1\n",
      "types-mypy-extensions       1.0\n",
      "types-mysqlclient           2.2\n",
      "types-netaddr               0.9\n",
      "types-oauthlib              3.2\n",
      "types-openpyxl              3.1\n",
      "types-opentracing           2.4\n",
      "types-paho-mqtt             1.6\n",
      "types-paramiko              3.3\n",
      "types-parsimonious          0.10\n",
      "types-passlib               1.7\n",
      "types-passpy                1.0\n",
      "types-peewee                3.17\n",
      "types-pep8-naming           0.13\n",
      "types-pexpect               4.8\n",
      "types-pika-ts               1.3\n",
      "types-Pillow                10.1\n",
      "types-playsound             1.3\n",
      "types-pluggy                1.2.0\n",
      "types-polib                 1.2\n",
      "types-portpicker            1.6\n",
      "types-protobuf              4.24\n",
      "types-psutil                5.9\n",
      "types-psycopg2              2.9\n",
      "types-pyasn1                0.5\n",
      "types-pyaudio               0.2\n",
      "types-PyAutoGUI             0.9\n",
      "types-pycocotools           2.0\n",
      "types-pycurl                7.45.2\n",
      "types-pyfarmhash            0.3\n",
      "types-pyflakes              3.1\n",
      "types-Pygments              2.16\n",
      "types-pyinstaller           6.1\n",
      "types-pyjks                 20.0\n",
      "types-PyMySQL               1.1\n",
      "types-pynput                1.7\n",
      "types-pyOpenSSL             23.3\n",
      "types-pyRFC3339             1.1\n",
      "types-PyScreeze             0.1.29\n",
      "types-pyserial              3.5\n",
      "types-pysftp                0.2\n",
      "types-pytest-lazy-fixture   0.6\n",
      "types-python-crontab        3.0\n",
      "types-python-datemath       1.5\n",
      "types-python-dateutil       2.8\n",
      "types-python-gflags         3.1\n",
      "types-python-jose           3.3\n",
      "types-python-nmap           0.7\n",
      "types-python-slugify        8.0\n",
      "types-python-xlib           0.33\n",
      "types-pytz                  2023.3.post1\n",
      "types-pywin32               306\n",
      "types-pyxdg                 0.28\n",
      "types-PyYAML                6.0\n",
      "types-qrcode                7.4\n",
      "types-redis                 4.6.0\n",
      "types-regex                 2023.10.3\n",
      "types-requests              2.31\n",
      "types-requests-oauthlib     1.3\n",
      "types-retry                 0.9\n",
      "types-s2clientprotocol      5\n",
      "types-seaborn               0.13\n",
      "types-Send2Trash            1.8\n",
      "types-setuptools            68.2\n",
      "types-simplejson            3.19\n",
      "types-singledispatch        4.1\n",
      "types-six                   1.16\n",
      "types-slumber               0.7\n",
      "types-stdlib-list           0.8\n",
      "types-stripe                3.5\n",
      "types-tabulate              0.9\n",
      "types-tensorflow            2.12\n",
      "types-toml                  0.10\n",
      "types-toposort              1.10\n",
      "types-tqdm                  4.66\n",
      "types-translationstring     1.4\n",
      "types-tree-sitter           0.20.1\n",
      "types-tree-sitter-languages 1.8\n",
      "types-ttkthemes             3.2\n",
      "types-tzlocal               5.1\n",
      "types-ujson                 5.8\n",
      "types-untangle              1.2\n",
      "types-usersettings          1.1\n",
      "types-uWSGI                 2.0\n",
      "types-vobject               0.9\n",
      "types-waitress              2.1\n",
      "types-WebOb                 1.8\n",
      "types-whatthepatch          1.0\n",
      "types-workalendar           17.0\n",
      "types-WTForms               3.1\n",
      "types-xmltodict             0.13\n",
      "types-zstd                  1.5\n",
      "types-zxcvbn                4.4\n",
      "typing_extensions           4.10.0\n",
      "ubuntu-drivers-common       0.0.0\n",
      "ufoLib2                     0.16.0\n",
      "ufw                         0.36.2\n",
      "unicodedata2                15.1.0\n",
      "Unidecode                   1.3.8\n",
      "urllib3                     2.0.7\n",
      "wadllib                     1.3.6\n",
      "wcwidth                     0.2.5\n",
      "webencodings                0.5.1\n",
      "websockets                  10.4\n",
      "wheel                       0.42.0\n",
      "xdg                         5\n",
      "xkit                        0.0.0\n",
      "xlrd                        2.0.1\n",
      "yt-dlp                      2024.4.9\n"
     ]
    }
   ],
   "source": [
    "!pip list\n",
    "# !pip install pandas\n"
   ]
  },
  {
   "cell_type": "code",
   "execution_count": 41,
   "id": "0e795be3",
   "metadata": {},
   "outputs": [
    {
     "name": "stdout",
     "output_type": "stream",
     "text": [
      "[230, 125, 470, 60, 152, 356, 33, 392, 98, 407]\n",
      "O maior numero e: 470\n",
      "O menor numero e: 33\n",
      "[33, 60, 98, 125, 152, 230, 356, 392, 407, 470]\n",
      "A media e: 232.3\n"
     ]
    }
   ],
   "source": [
    "#exercicio\n",
    "\n",
    "import random\n",
    "lista_numeros_aleatorios = [random.randint(0, 500) for num in range(10)]\n",
    "print(lista_numeros_aleatorios)\n",
    "print(\"O maior numero e:\", max(lista_numeros_aleatorios))\n",
    "print(\"O menor numero e:\", min(lista_numeros_aleatorios))\n",
    "print(sorted(lista_numeros_aleatorios))\n",
    "\n",
    "print(\"A media e:\", sum(lista_numeros_aleatorios)/len(lista_numeros_aleatorios))"
   ]
  }
 ],
 "metadata": {
  "kernelspec": {
   "display_name": "Python 3",
   "language": "python",
   "name": "python3"
  },
  "language_info": {
   "codemirror_mode": {
    "name": "ipython",
    "version": 3
   },
   "file_extension": ".py",
   "mimetype": "text/x-python",
   "name": "python",
   "nbconvert_exporter": "python",
   "pygments_lexer": "ipython3",
   "version": "3.12.3"
  }
 },
 "nbformat": 4,
 "nbformat_minor": 5
}
