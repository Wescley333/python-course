{
 "cells": [
  {
   "cell_type": "markdown",
   "id": "9bc3e1e9",
   "metadata": {},
   "source": [
    "## Fundamentos de POO \n",
    "#### Oque sao Classes e Objetos\n",
    "\n",
    "<ul> \n",
    "<li>Classe: Um modelo ou blueprint para criar objetos que vao compartilhar as mesmas regras. Classes costumam ser reprentações digitais de coisas que existem no mundo real</li>\n",
    "<li>Objeto: um instâcia especifica de uma classe</li>\n",
    "<li> Facilitar a manuteção do codigo</li>\n",
    "<li>Organizar o codigo</li>\n",
    "</ul>"
   ]
  }
 ],
 "metadata": {
  "language_info": {
   "name": "python"
  }
 },
 "nbformat": 4,
 "nbformat_minor": 5
}
