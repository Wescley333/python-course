{
 "cells": [
  {
   "cell_type": "markdown",
   "id": "9bc3e1e9",
   "metadata": {},
   "source": [
    "## Fundamentos de POO \n",
    "#### Oque sao Classes e Objetos\n",
    "\n",
    "<ul> \n",
    "<li><strong>Classe:<strong> Um modelo ou blueprint para criar objetos que vao compartilhar as mesmas regras. Classes costumam ser <br>reprentações digitais de coisas que existem no mundo real</li>\n",
    "<li><strong>Objeto:<strong> um instâcia especifica de uma classe</li>\n",
    "</ul>\n",
    "\n",
    "### Os 3 pilares da progamação orientada a objetos:\n",
    "\n",
    "<strong>Herança<strong>\n",
    "<br>\n",
    "Pense em uma arvore genealogica. Um filho herda caracterisca dos pais, como cor dos olhos, tipo de cabelo, etc.\n",
    "\n",
    "<ul> \n",
    "<li>Na progamaçao, podemos criar uma classe \"veiculo\" com caracteristicas básicas(acelerar, frear, ligar)</li>\n",
    "<li>Depois, podemos criar classes mais especificas como \"Carro\" e \"Moto\" que herdam todas essas caracteristicas básicas de \"Veiculo\"</li>\n",
    "<li>Assim, não precisamos reescrever o codigo das caracteriscas básicas para cada tipo de veiculo</li>\n",
    "</ul>"
   ]
  },
  {
   "cell_type": "markdown",
   "id": "93029916",
   "metadata": {},
   "source": [
    "### Polimorfismo\n",
    "Imagine um controle remoto universal. Ele pode controlar diferentes aparelhos (TV, DVD, Som) usando os mesmos botoẽs, mas cada aparelho respode de forma diferente ao mesmo botão.\n",
    "\n",
    "Na progamação, significa que podemos ter um mesmo comando fucionando de formas diferentes dependendo do contexto. Por exemplo, um metodo \"fazerSom()\" em diferentes classes de animais:\n",
    "<ul>\n",
    "<li>Na classe \"Cachorro\": fazersom() produz \"Au Au\"</li>\n",
    "<li>Na classe \"Gato\": fazersom() produz \"Miau Miau\"</li>\n",
    "<li>Na classe \"Vaca\": fazersom() produz \"Muuuu\"</li>\n",
    "<ul>"
   ]
  },
  {
   "cell_type": "markdown",
   "id": "902e35e4",
   "metadata": {},
   "source": [
    "### Encapsulamento\n",
    "Imagine uma TV moderna. Você só apertar alguns botões no controle para usá-la (liga, desligar, mudar canal, ajustar volume), mas nao precisaentender toda a complexidade eletronica que existe dentro dela.\n",
    "\n",
    "<ul>\n",
    "<li>O encapsulamento é como \"escoder\" toda a complexidade interna e só mostrar os \"botões\" necessarios para usar algo</li>\n",
    "<li>Na progamaçao, seria como criar uma \"Classe TV\" onde so expõe os métodos necessarios (ligar(), desligar(), mudarCanal(), etc) e esconde toda a complexidade interna</li>\n",
    "<ul>"
   ]
  },
  {
   "cell_type": "markdown",
   "id": "3a1efc78",
   "metadata": {},
   "source": [
    "## Criando sua Primeira Classe"
   ]
  },
  {
   "cell_type": "code",
   "execution_count": null,
   "id": "a68db7ec",
   "metadata": {},
   "outputs": [],
   "source": [
    "# definindo uma classe simples\n",
    "class Pessoa:\n",
    "\n",
    "    #Método construtor - dunder function\n",
    "    def __init__(self, nome, idade):\n",
    "        #Atributos da classe\n",
    "        #self = um objeto comum à nossa classe | um objeto por todos os metodos\n",
    "        self.nome = nome\n",
    "        self.idade = idade\n",
    "        # self.cidade = \"São Paulo\"\n",
    "\n",
    "    # Método para aprensentação\n",
    "    def aprensentar(self):\n",
    "        print(f\"Ola, meu nome é {self.nome} e tenho {self.idade} anos\")\n",
    "\n",
    "\n"
   ]
  },
  {
   "cell_type": "code",
   "execution_count": null,
   "id": "06e59f2f",
   "metadata": {},
   "outputs": [],
   "source": [
    "# Criando objetos\n",
    "pessoa1 = Pessoa(\"Joao\", 25)\n",
    "pessoa2 = Pessoa(\"Thaissa\", 22)"
   ]
  },
  {
   "cell_type": "code",
   "execution_count": null,
   "id": "6a30b01d",
   "metadata": {},
   "outputs": [],
   "source": [
    "# Chamando métodos\n",
    "pessoa1.aprensentar()\n",
    "pessoa2.aprensentar()"
   ]
  },
  {
   "cell_type": "code",
   "execution_count": 7,
   "id": "760cc52c",
   "metadata": {},
   "outputs": [
    {
     "name": "stdout",
     "output_type": "stream",
     "text": [
      "Nome da primeira pessoa:  {'Joao'}\n",
      "Idade da primeira pessoa 25\n"
     ]
    }
   ],
   "source": [
    "# Acessando atributos\n",
    "print(f\"Nome da primeira pessoa: \", {pessoa1.nome})\n",
    "print(f\"Idade da primeira pessoa {pessoa1.idade}\" )"
   ]
  },
  {
   "cell_type": "markdown",
   "id": "5b1a1d9d",
   "metadata": {},
   "source": [
    "## Métodos Especiais e Personalização"
   ]
  },
  {
   "cell_type": "code",
   "execution_count": 8,
   "id": "d8796405",
   "metadata": {},
   "outputs": [],
   "source": [
    " # Classe com métodos especiais\n",
    "class Livro:\n",
    "    def __init__(self, titulo, autor, ano):\n",
    "        self.titulo = titulo\n",
    "        self.autor = autor\n",
    "        self.ano = ano\n",
    "    \n",
    "    #Metodo especial para representaçao em string / Dunder Fuction\n",
    "    def __str__(self):\n",
    "        return f\"{self.titulo} por {self.autor} ({self.ano})\"\n",
    "    \n",
    "    # Metodo para comparação\n",
    "    def __eq__(self, outro): # objeto == outro\n",
    "        return (self.titulo == outro.titulo \n",
    "                    and self.autor == outro.autor \n",
    "                        and self.ano == outro.ano)"
   ]
  },
  {
   "cell_type": "code",
   "execution_count": 9,
   "id": "ba445c40",
   "metadata": {},
   "outputs": [],
   "source": [
    "# Criando objetos Livro\n",
    "livro1 = Livro(\"Dom Quixote\", \"Miguel de Cervantes\", 1605)\n",
    "livro2 = Livro(\"Dom Quixote\", \"Miguel de Cervantes\", 1605)\n",
    "livro3 = Livro(\"O Pequeno Principe\", \"Antonie de Saint\", 1943)"
   ]
  },
  {
   "cell_type": "code",
   "execution_count": 10,
   "id": "14f4cbee",
   "metadata": {},
   "outputs": [
    {
     "name": "stdout",
     "output_type": "stream",
     "text": [
      "Representação do livro:  Dom Quixote por Miguel de Cervantes (1605)\n",
      "Livros são iguais?  True\n",
      "Livros diferentes sao iguais?  False\n"
     ]
    }
   ],
   "source": [
    "# Usando métodos especiais\n",
    "print(\"Representação do livro: \", livro1)\n",
    "print(\"Livros são iguais? \", livro1 == livro2)\n",
    "print(\"Livros diferentes sao iguais? \", livro1 == livro3)"
   ]
  },
  {
   "cell_type": "markdown",
   "id": "28068755",
   "metadata": {},
   "source": [
    "## Herança e Encapsulamento"
   ]
  },
  {
   "cell_type": "code",
   "execution_count": 25,
   "id": "670a306e",
   "metadata": {},
   "outputs": [],
   "source": [
    "# Classe base/pai\n",
    "class Animal:\n",
    "    def __init__(self, nome):\n",
    "        # Atributo protegido\n",
    "        self._nome = nome # atributo privado/protegido\n",
    "\n",
    "    def fazer_som(self):\n",
    "        print(\"Som generico animal\")\n",
    "\n",
    "# Classe derivada/filho {Herança}\n",
    "class Cachorro(Animal): # Super classe\n",
    "    # Chamado construtot da classe pai\n",
    "    def __init__(self, nome, raca):\n",
    "        super().__init__(nome) # super vincular o \"nome\" com o \"nome\" da classe pai\n",
    "        self.raca = raca\n",
    "\n",
    "    # Sobreescrevendo método primeiro polimorfismo\n",
    "    def fazer_som(self):\n",
    "        print(\"Au! Au!\")\n",
    "\n",
    "    # Metodo especifico\n",
    "    def abanar_rabo(self):\n",
    "        print(f\"{self._nome} está abanando o rabo!\")"
   ]
  },
  {
   "cell_type": "code",
   "execution_count": 26,
   "id": "8c7e8038",
   "metadata": {},
   "outputs": [],
   "source": [
    "# Criando objetos \n",
    "animal_generico = Animal(\"Bicho\")\n",
    "granola = Cachorro(\"Granola\", \"Doberman\")\n"
   ]
  },
  {
   "cell_type": "code",
   "execution_count": 15,
   "id": "0c82f54d",
   "metadata": {},
   "outputs": [
    {
     "name": "stdout",
     "output_type": "stream",
     "text": [
      "\n",
      " Verificação de tipos: \n",
      "O que é o nosso bicho?  <class '__main__.Animal'>\n",
      "Granola é um Cachorro? True\n",
      "Granola é um animal?  True\n"
     ]
    }
   ],
   "source": [
    "# Verifição tipos\n",
    "print(\"\\n Verificação de tipos: \")\n",
    "print(\"O que é o nosso bicho? \", type(animal_generico))\n",
    "print(\"Granola é um Cachorro?\", isinstance(granola, Cachorro))\n",
    "print(\"Granola é um animal? \", isinstance(granola, Animal))"
   ]
  },
  {
   "cell_type": "code",
   "execution_count": 18,
   "id": "c322332e",
   "metadata": {},
   "outputs": [
    {
     "name": "stdout",
     "output_type": "stream",
     "text": [
      "Sons de animais: \n",
      "Som generico animal\n",
      "Au Au\n"
     ]
    }
   ],
   "source": [
    "# Demonstração polimorfismo\n",
    "print(\"Sons de animais: \")\n",
    "animal_generico.fazer_som()\n",
    "granola.fazer_som()\n"
   ]
  },
  {
   "cell_type": "code",
   "execution_count": 27,
   "id": "dd61efec",
   "metadata": {},
   "outputs": [
    {
     "name": "stdout",
     "output_type": "stream",
     "text": [
      "Granola está abanando o rabo!\n"
     ]
    }
   ],
   "source": [
    "# Metodos especifico de Cachorro\n",
    "granola.abanar_rabo()"
   ]
  },
  {
   "cell_type": "code",
   "execution_count": 28,
   "id": "5c50ff5b",
   "metadata": {},
   "outputs": [
    {
     "ename": "AttributeError",
     "evalue": "'Animal' object has no attribute 'abanar_rabo'",
     "output_type": "error",
     "traceback": [
      "\u001b[0;31m---------------------------------------------------------------------------\u001b[0m",
      "\u001b[0;31mAttributeError\u001b[0m                            Traceback (most recent call last)",
      "Cell \u001b[0;32mIn[28], line 2\u001b[0m\n\u001b[1;32m      1\u001b[0m \u001b[38;5;66;03m# Se eu tentar usar um metodo de minha classe herdada na minha classe pai\u001b[39;00m\n\u001b[0;32m----> 2\u001b[0m \u001b[43manimal_generico\u001b[49m\u001b[38;5;241;43m.\u001b[39;49m\u001b[43mabanar_rabo\u001b[49m()\n",
      "\u001b[0;31mAttributeError\u001b[0m: 'Animal' object has no attribute 'abanar_rabo'"
     ]
    }
   ],
   "source": [
    "# Se eu tentar usar um metodo de minha classe herdada na minha classe pai\n",
    "animal_generico.abanar_rabo()"
   ]
  },
  {
   "cell_type": "markdown",
   "id": "3f0b4178",
   "metadata": {},
   "source": [
    "## Propriedades e Métodos de Classe"
   ]
  },
  {
   "cell_type": "code",
   "execution_count": 29,
   "id": "0f8d34f4",
   "metadata": {},
   "outputs": [],
   "source": [
    "class ContaBanco:\n",
    "    # Atributo de classe (compartilhado por todas as instâcias)\n",
    "    banco = \"Banco Python\"\n",
    "\n",
    "    def __init__(self, titular, saldo=0):\n",
    "        self.titular = titular\n",
    "        self._saldo = saldo\n",
    "\n",
    "    #Getter  (Metodo para extrair uma informação privada/encapusulada)\n",
    "    @property # decorator\n",
    "    def saldo(self):\n",
    "        return self._saldo\n",
    "    \n",
    "    #Método para depositar\n",
    "    def depositar(self, valor):\n",
    "        if valor > 0:\n",
    "            self._saldo += valor\n",
    "            print(f\"deposito de R${valor} realizado\")\n",
    "        else:\n",
    "            print(\"Valor inválido para depósito.\")\n",
    "\n",
    "    # Método de classe\n",
    "    @classmethod\n",
    "    def info_banco(cls):\n",
    "        print(f\"Informaçoes do {cls.banco}\")\n",
    "        "
   ]
  },
  {
   "cell_type": "code",
   "execution_count": 31,
   "id": "e62e0927",
   "metadata": {},
   "outputs": [],
   "source": [
    "# Usando a Classe\n",
    "conta1 = ContaBanco(\"Wescley\", 1000)\n",
    "conta2 = ContaBanco(\"Thaissa\")"
   ]
  },
  {
   "cell_type": "code",
   "execution_count": 32,
   "id": "c7e30e1c",
   "metadata": {},
   "outputs": [
    {
     "name": "stdout",
     "output_type": "stream",
     "text": [
      "Banco:  Banco Python\n"
     ]
    }
   ],
   "source": [
    "# Demonstrando atributo de classe\n",
    "print(\"Banco: \", ContaBanco.banco)"
   ]
  },
  {
   "cell_type": "code",
   "execution_count": 33,
   "id": "819be040",
   "metadata": {},
   "outputs": [
    {
     "name": "stdout",
     "output_type": "stream",
     "text": [
      "deposito de R$500 realizado\n",
      "Saldo de João:  1500\n"
     ]
    }
   ],
   "source": [
    "# Metodos e propriedades \n",
    "conta1.depositar(500)\n",
    "print(\"Saldo de João: \", conta1.saldo)"
   ]
  },
  {
   "cell_type": "code",
   "execution_count": 34,
   "id": "ce9fb1b3",
   "metadata": {},
   "outputs": [
    {
     "name": "stdout",
     "output_type": "stream",
     "text": [
      "Informaçoes do Banco Python\n"
     ]
    }
   ],
   "source": [
    "#Metodo de classe\n",
    "ContaBanco.info_banco()"
   ]
  }
 ],
 "metadata": {
  "kernelspec": {
   "display_name": "Python 3",
   "language": "python",
   "name": "python3"
  },
  "language_info": {
   "codemirror_mode": {
    "name": "ipython",
    "version": 3
   },
   "file_extension": ".py",
   "mimetype": "text/x-python",
   "name": "python",
   "nbconvert_exporter": "python",
   "pygments_lexer": "ipython3",
   "version": "3.12.3"
  }
 },
 "nbformat": 4,
 "nbformat_minor": 5
}
